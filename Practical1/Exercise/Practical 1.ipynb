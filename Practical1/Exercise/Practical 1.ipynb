{
 "cells": [
  {
   "cell_type": "markdown",
   "metadata": {},
   "source": [
    "<h1>Part 3</h1>"
   ]
  },
  {
   "cell_type": "markdown",
   "metadata": {},
   "source": [
    "Question 1"
   ]
  },
  {
   "cell_type": "code",
   "execution_count": 2,
   "metadata": {},
   "outputs": [
    {
     "name": "stdout",
     "output_type": "stream",
     "text": [
      "Name: <class 'str'> Age: <class 'str'> Height: <class 'str'> CGPA: 3.45\n"
     ]
    }
   ],
   "source": [
    "name = input(\"What is your name?\")\n",
    "age = input(\"How old are you?\")\n",
    "height = input(\"How tall are you?\")\n",
    "cgpa = input(\"What is your CGPA\")\n",
    "\n",
    "print(\"Name:\",type(name),\"Age:\", type(age),\"Height:\", type(height), \"CGPA:\",cgpa)"
   ]
  },
  {
   "cell_type": "markdown",
   "metadata": {},
   "source": [
    "Question 2"
   ]
  },
  {
   "cell_type": "code",
   "execution_count": 7,
   "metadata": {},
   "outputs": [
    {
     "name": "stdout",
     "output_type": "stream",
     "text": [
      "colourless\n"
     ]
    }
   ],
   "source": [
    "s = 'color'\n",
    "print(s[0:4]+'u'+s[4]+'less')"
   ]
  },
  {
   "cell_type": "markdown",
   "metadata": {},
   "source": [
    "Question 3"
   ]
  },
  {
   "cell_type": "code",
   "execution_count": 10,
   "metadata": {},
   "outputs": [
    {
     "name": "stdout",
     "output_type": "stream",
     "text": [
      "\"sample\" not found\n",
      "\"project\" found at index 5\n",
      "\"project\" appears 3 time(s)\n",
      "\"crime and punishment\" found at index 32\n",
      "\"crime and punishment\" appears 4 time(s)\n",
      "Program terminated.\n"
     ]
    }
   ],
   "source": [
    "import re\n",
    "\n",
    "# Open and read the first 1000 characters from the file\n",
    "with open(r'C:\\Users\\USER\\Desktop\\Classroom\\Y2S3\\AI\\AIPractical\\Practical1\\pg2554.txt', 'r', encoding='utf-8') as f:\n",
    "    rawLocal = f.read(1000)\n",
    "\n",
    "while True:\n",
    "    # Ask the user for input\n",
    "    searchKeyword = input(\"Enter Keyword or Keyphrase: \").strip()\n",
    "\n",
    "    # Check if user wants to quit\n",
    "    if searchKeyword.lower() == \"quit\":\n",
    "        print(\"Program terminated.\")\n",
    "        break\n",
    "\n",
    "    # Use re.finditer() to find all occurrences (case-insensitive)\n",
    "    matches = list(re.finditer(re.escape(searchKeyword), rawLocal, re.IGNORECASE))\n",
    "\n",
    "    # If no matches found\n",
    "    if not matches:\n",
    "        print(f'\"{searchKeyword}\" not found')\n",
    "    else:\n",
    "        # Print first occurrence index and total count\n",
    "        first_index = matches[0].start()\n",
    "        total_count = len(matches)\n",
    "        print(f'\"{searchKeyword}\" found at index {first_index}')\n",
    "        print(f'\"{searchKeyword}\" appears {total_count} time(s)')\n"
   ]
  },
  {
   "cell_type": "markdown",
   "metadata": {},
   "source": [
    "Question 4"
   ]
  },
  {
   "cell_type": "code",
   "execution_count": 12,
   "metadata": {},
   "outputs": [
    {
     "name": "stdout",
     "output_type": "stream",
     "text": [
      "Python World\n"
     ]
    }
   ],
   "source": [
    "import re\n",
    "s = 'Hello World'\n",
    "result = re.sub('Hello', 'Python', s)\n",
    "\n",
    "print(result)"
   ]
  },
  {
   "cell_type": "markdown",
   "metadata": {},
   "source": [
    "Question 5"
   ]
  },
  {
   "cell_type": "code",
   "execution_count": 22,
   "metadata": {},
   "outputs": [
    {
     "name": "stdout",
     "output_type": "stream",
     "text": [
      "Good Password\n"
     ]
    }
   ],
   "source": [
    "import re\n",
    "def password_check():\n",
    "      password = input(\"Enter your password\")\n",
    "      checkLength = len(password) >= 8\n",
    "      checkAlphanumber = bool(re.search(r'\\b[a-zA-Z0-9]+\\b', password))\n",
    "      checkUppercase = bool(re.search('[A-Z]', password))\n",
    "      if(checkLength == False):\n",
    "            print(\"Must be more than 8 characters\")\n",
    "      if(checkAlphanumber == False):\n",
    "            print(\"Must contain alphanumeric\")\n",
    "      if(checkUppercase == False):\n",
    "            print(\"Must contain uppercase\")\n",
    "      if(checkLength == False or checkAlphanumber == False or checkUppercase == False):\n",
    "            print('Bad Password')\n",
    "      else:\n",
    "            print('Good Password')\n",
    "\n",
    "password_check()    "
   ]
  }
 ],
 "metadata": {
  "kernelspec": {
   "display_name": "base",
   "language": "python",
   "name": "python3"
  },
  "language_info": {
   "codemirror_mode": {
    "name": "ipython",
    "version": 3
   },
   "file_extension": ".py",
   "mimetype": "text/x-python",
   "name": "python",
   "nbconvert_exporter": "python",
   "pygments_lexer": "ipython3",
   "version": "3.12.7"
  }
 },
 "nbformat": 4,
 "nbformat_minor": 2
}
