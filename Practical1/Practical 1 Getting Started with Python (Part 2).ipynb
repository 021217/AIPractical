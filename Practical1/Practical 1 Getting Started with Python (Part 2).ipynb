{
 "cells": [
  {
   "cell_type": "markdown",
   "metadata": {
    "id": "hevv0ra7Lw3Q"
   },
   "source": [
    "# Practical 1: Getting Started with Python (Part 2)"
   ]
  },
  {
   "cell_type": "markdown",
   "metadata": {
    "id": "H2H-7sbNLw3T"
   },
   "source": [
    "## 6 - Collections\n",
    "In python there are four fundamental types of sequences to hold collections of items.\n",
    "* List\n",
    "* Tuple\n",
    "* Set\n",
    "* Dictionary"
   ]
  },
  {
   "cell_type": "markdown",
   "metadata": {
    "id": "ZWRvo4O3Lw3T"
   },
   "source": [
    "## 6.1 - List\n",
    "Lists are collections of *heterogeneous objects* (values from different data types), which can be of any type, including other lists. Lists are **mutable** (edit/delete/add/modify), i.e. you can modify the members of the list"
   ]
  },
  {
   "cell_type": "markdown",
   "metadata": {
    "id": "Qsgde5RrLw3U"
   },
   "source": [
    "### 6.1.1 - Creating a list"
   ]
  },
  {
   "cell_type": "code",
   "execution_count": null,
   "metadata": {
    "id": "aTjetHWdLw3U"
   },
   "outputs": [],
   "source": [
    "numbers = [1, 2, 3, 4, 5, 6, 7]\n",
    "student = ['Kevin', 18, 3.85, ['BACS2003', 'BACS2063']]\n",
    "\n",
    "print (numbers)\n",
    "print (student)"
   ]
  },
  {
   "cell_type": "markdown",
   "metadata": {
    "id": "_jPadCC2Lw3V"
   },
   "source": [
    "### 6.1.2 - Modifying a list (Mutable)"
   ]
  },
  {
   "cell_type": "code",
   "execution_count": 2,
   "metadata": {
    "id": "1hUnug-ELw3W"
   },
   "outputs": [
    {
     "name": "stdout",
     "output_type": "stream",
     "text": [
      "[1, 2, 99, 4, 5, 6, 7, 'Kevin', 18, 3.85, ['BACS2003', 'BACS2063']]\n",
      "[1, 2, 99, 4, 5, 6, 7, 100]\n",
      "[1, 'C', 2, 99, 4, 5, 6, 7, 100]\n",
      "['C', 2, 99, 4, 5, 6, 7, 100]\n",
      "[1, 3, 4, 5, 6, 7]\n",
      "[1, 4, 5, 6, 7]\n"
     ]
    }
   ],
   "source": [
    "numbers = [1, 2, 3, 4, 5, 6, 7]\n",
    "student = ['Kevin', 18, 3.85, ['BACS2003', 'BACS2063']]\n",
    "\n",
    "numbers[2] = 99  \t# modify item with index 2\n",
    "print(numbers + student) # to combine 2 lists\n",
    "\n",
    "numbers.append(100) \t# append a new value to last\n",
    "print(numbers)\n",
    "\n",
    "numbers.insert(1, 'C')\t# insert a new value to index 1\n",
    "print(numbers)\n",
    "\n",
    "numbers.remove(1) \t# remove the item with value 1\n",
    "print(numbers)\n",
    "\n",
    "numbers = [1, 2, 3, 4, 5, 6, 7]\n",
    "del numbers[1]  # delete the item with index 1\n",
    "print(numbers)\n",
    "\n",
    "numbers.pop(1)\t# remove the item with index 1\n",
    "print(numbers)  # pop = del\n"
   ]
  },
  {
   "cell_type": "markdown",
   "metadata": {
    "id": "MMUWjJvgLw3W"
   },
   "source": [
    "### 6.1.3  - List Comprehension\n",
    "Python supports **list comprehension**, which allows you to do some modification on all elements within a list, or filter out some elements from a list. Example is as follows:"
   ]
  },
  {
   "cell_type": "code",
   "execution_count": 3,
   "metadata": {
    "id": "JmnAoh0CLw3W"
   },
   "outputs": [
    {
     "name": "stdout",
     "output_type": "stream",
     "text": [
      "mark_list =  [0.3, 0.4, 0.5, 0.6, 0.7]\n"
     ]
    }
   ],
   "source": [
    "mark_list = sorted([0.4, 0.5, 0.7, 0.6, 0.3]) # sort the list ascendingly\n",
    "print(\"mark_list = \", mark_list)\n",
    "\n",
    "new_marks = []      #new list\n",
    "\n",
    "for m in mark_list:        #mark_list = [0.3,0.4,0.5,0.6,0.7]\n",
    "    if m > 0.5:\n",
    "        res = m * 100       #0.6*100 store into res\n",
    "        new_marks.append (res)    #append/add this res value into new_marks list\n",
    "\n",
    "# #or try in-line statement\n",
    "# new_marks = [m * 100 if m > 0.5 else m for m in mark_list] \n",
    "# new_marks.sort(reverse=True) # sort the list in descending order\n",
    "# print(\"new_list = \",  new_marks)\n",
    "\n",
    "# =============================================================================\n",
    "# new_marks = [ m * 100 if m > 0.5 else m * 30 for m in mark_list ] \n",
    "# for m in mark_list:\n",
    "#     if m > 0.5:\n",
    "#         res = m * 100\n",
    "#         new_marks.append (res)\n",
    "#     else:\n",
    "#         res = m*30\n",
    "#         new_marks.append (res)"
   ]
  },
  {
   "cell_type": "markdown",
   "metadata": {
    "id": "6ZhSLef0Lw3X"
   },
   "source": [
    "## 6.2 - Tuple\n",
    "Tuples are similar to normal lists but they are **immutable**, i.e. you cannot add, delete or make assignments to items."
   ]
  },
  {
   "cell_type": "markdown",
   "metadata": {
    "id": "a5K2hvnQLw3X"
   },
   "source": [
    "### 6.2.1 - Creating a tuple"
   ]
  },
  {
   "cell_type": "code",
   "execution_count": null,
   "metadata": {
    "id": "3XwmLYJULw3X"
   },
   "outputs": [
    {
     "name": "stdout",
     "output_type": "stream",
     "text": [
      "3.12345\n"
     ]
    },
    {
     "ename": "AttributeError",
     "evalue": "'tuple' object has no attribute 'pop'",
     "output_type": "error",
     "traceback": [
      "\u001b[1;31m---------------------------------------------------------------------------\u001b[0m",
      "\u001b[1;31mAttributeError\u001b[0m                            Traceback (most recent call last)",
      "Cell \u001b[1;32mIn[1], line 3\u001b[0m\n\u001b[0;32m      1\u001b[0m coordinate \u001b[38;5;241m=\u001b[39m (\u001b[38;5;241m3.12345\u001b[39m, \u001b[38;5;241m101.23423\u001b[39m)\n\u001b[0;32m      2\u001b[0m \u001b[38;5;28mprint\u001b[39m(coordinate[\u001b[38;5;241m0\u001b[39m]) \u001b[38;5;66;03m#ordered, can call the member\u001b[39;00m\n\u001b[1;32m----> 3\u001b[0m coordinate\u001b[38;5;241m.\u001b[39mpop (\u001b[38;5;241m1\u001b[39m)\n",
      "\u001b[1;31mAttributeError\u001b[0m: 'tuple' object has no attribute 'pop'"
     ]
    }
   ],
   "source": [
    "coordinate = (3.12345, 101.23423)\n",
    "print(coordinate[0]) #ordered, can call the member\n",
    "coordinate.pop (1)"
   ]
  },
  {
   "cell_type": "markdown",
   "metadata": {
    "id": "hpKAnn_VLw3X"
   },
   "source": [
    "### 6.2.2 - Immutable tuple\n",
    "Now try to change the coordinate data above and run the command. Observe the output."
   ]
  },
  {
   "cell_type": "code",
   "execution_count": null,
   "metadata": {
    "id": "-O--vi_SLw3Y"
   },
   "outputs": [],
   "source": [
    "coordinate[0] = 0"
   ]
  },
  {
   "cell_type": "markdown",
   "metadata": {
    "id": "SC6kNS0ILw3Y"
   },
   "source": [
    "### 6.2.3 - Unpack a tuple/list\n",
    "See the example below to unpack the coordinate into 2 elements, x and y (applicable to list and tuple)"
   ]
  },
  {
   "cell_type": "code",
   "execution_count": 3,
   "metadata": {
    "id": "hsq8eatbLw3Y"
   },
   "outputs": [
    {
     "name": "stdout",
     "output_type": "stream",
     "text": [
      "x =  3.12345 y =  101.23423\n"
     ]
    }
   ],
   "source": [
    "#in C++\n",
    "coordinate = (3.12345, 101.23423)\n",
    "a = coordinate [0]\n",
    "b = coordinate [1]\n",
    "print ('x = ', a, 'y = ', b)"
   ]
  },
  {
   "cell_type": "code",
   "execution_count": 2,
   "metadata": {
    "id": "n0fL04VrLw3Y"
   },
   "outputs": [
    {
     "name": "stdout",
     "output_type": "stream",
     "text": [
      "x =  3.12345 y =  101.23423\n"
     ]
    }
   ],
   "source": [
    "#in python\n",
    "coordinate = (3.12345, 101.23423)\n",
    "x, y  = coordinate\n",
    "print('x = ', x, 'y = ', y)"
   ]
  },
  {
   "cell_type": "markdown",
   "metadata": {
    "id": "uxF_QNipLw3Y"
   },
   "source": [
    "## 6.3 - Set\n",
    "Sets are unordered.\n",
    "Set elements are unique. Duplicate elements are not allowed.\n",
    "A set itself may be modified, but the elements contained in the set must be of an immutable type."
   ]
  },
  {
   "cell_type": "markdown",
   "metadata": {
    "id": "AbyW2AkiLw3Z"
   },
   "source": [
    "### 6.3.1 - Creating sets"
   ]
  },
  {
   "cell_type": "markdown",
   "metadata": {
    "id": "QMfXrwy1Lw3Z"
   },
   "source": [
    "In Python, the syntax for defining a set is as follows:\n",
    "\n",
    "**my_set = {element1, element2, element3, ...}**\n",
    "\n",
    "In this syntax:<br>\n",
    "1. Curly braces {} are used to enclose the elements of the set.\n",
    "2. Each element is separated by a comma.\n",
    "3. Elements within a set can be of different data types, but they must be immutable objects. Examples of immutable objects include integers, floats, strings, and tuples."
   ]
  },
  {
   "cell_type": "code",
   "execution_count": 8,
   "metadata": {
    "id": "pS1fXoP-Lw3Z"
   },
   "outputs": [
    {
     "name": "stdout",
     "output_type": "stream",
     "text": [
      "{1, 2, 3, 4, 5}\n",
      "{'cherry', 'apple', 'banana'}\n",
      "{1, (4, 5), 3.14, 'hello'}\n"
     ]
    }
   ],
   "source": [
    "# Set of integers\n",
    "my_set = {1, 2, 3, 4, 5}\n",
    "print (my_set)\n",
    "\n",
    "# Set of strings\n",
    "my_set = {\"apple\", \"banana\", \"cherry\"}\n",
    "print (my_set)\n",
    "\n",
    "# Set of mixed data types\n",
    "my_set = {1, \"hello\", 3.14, (4, 5)}\n",
    "print (my_set)"
   ]
  },
  {
   "cell_type": "markdown",
   "metadata": {
    "id": "n3ftGHusLw3Z"
   },
   "source": [
    "When we say that \"elements within a set must be immutable\" in Python, it means that the objects used as elements in a set must be of immutable data types. Immutable objects are those whose values cannot be changed after they are created. In contrast, mutable objects can have their values modified even after creation.\n",
    "\n",
    "In Python, examples of immutable objects include integers, floats, strings, and tuples. On the other hand, mutable objects include lists, dictionaries, and sets themselves.\n",
    "\n",
    "Sets in Python require their elements to be of immutable types to ensure the set's integrity and efficient operations such as membership checking and element uniqueness."
   ]
  },
  {
   "cell_type": "code",
   "execution_count": 6,
   "metadata": {
    "id": "KiNJ_-MJLw3Z"
   },
   "outputs": [
    {
     "name": "stdout",
     "output_type": "stream",
     "text": [
      "{1, (4, 5), 2, 'hello'}\n"
     ]
    },
    {
     "ename": "TypeError",
     "evalue": "unhashable type: 'list'",
     "output_type": "error",
     "traceback": [
      "\u001b[1;31m---------------------------------------------------------------------------\u001b[0m",
      "\u001b[1;31mTypeError\u001b[0m                                 Traceback (most recent call last)",
      "Cell \u001b[1;32mIn[6], line 6\u001b[0m\n\u001b[0;32m      3\u001b[0m \u001b[38;5;28mprint\u001b[39m(my_set)\n\u001b[0;32m      5\u001b[0m \u001b[38;5;66;03m# Invalid set with a mutable element\u001b[39;00m\n\u001b[1;32m----> 6\u001b[0m my_set \u001b[38;5;241m=\u001b[39m {\u001b[38;5;241m1\u001b[39m, \u001b[38;5;241m2\u001b[39m, [\u001b[38;5;241m3\u001b[39m, \u001b[38;5;241m4\u001b[39m]}  \u001b[38;5;66;03m# Lists are mutable\u001b[39;00m\n\u001b[0;32m      7\u001b[0m \u001b[38;5;28mprint\u001b[39m(my_set)\n",
      "\u001b[1;31mTypeError\u001b[0m: unhashable type: 'list'"
     ]
    }
   ],
   "source": [
    "# Valid set with immutable elements\n",
    "my_set = {1, 2, \"hello\", (4, 5)}\n",
    "print(my_set)\n",
    "\n",
    "# Invalid set with a mutable element\n",
    "my_set = {1, 2, [3, 4]}  # Lists are mutable\n",
    "print(my_set)"
   ]
  },
  {
   "cell_type": "markdown",
   "metadata": {
    "id": "2IguYqmLLw3Z"
   },
   "source": [
    "**Alternative:**\n",
    "\n",
    "Here's the syntax for creating a set using the set() constructor:\n",
    "\n",
    "**my_set = set(iterable)**\n",
    "\n",
    "In this syntax:<br>\n",
    "The iterable parameter is optional. It can be any iterable object, such as a list, tuple, or string, from which the set is created.\n",
    "If no iterable is provided, an empty set is created."
   ]
  },
  {
   "cell_type": "code",
   "execution_count": 9,
   "metadata": {
    "id": "uIfUjKjiLw3a"
   },
   "outputs": [
    {
     "name": "stdout",
     "output_type": "stream",
     "text": [
      "{1, 2, 3, 4, 5}\n",
      "{1, 2, 3, 4, 5}\n",
      "{'h', 'o', 'l', 'e'}\n"
     ]
    }
   ],
   "source": [
    "# Creating a set from a list\n",
    "my_set = set([1, 2, 3, 4, 5])\n",
    "print (my_set)\n",
    "\n",
    "# Creating a set from a tuple\n",
    "my_set = set((1, 2, 3, 4, 5))\n",
    "print (my_set)\n",
    "\n",
    "# Creating a set from a string\n",
    "my_set = set(\"hello\")\n",
    "print (my_set)"
   ]
  },
  {
   "cell_type": "markdown",
   "metadata": {
    "id": "pIFDZKr_Lw3a"
   },
   "source": [
    "### 6.3.2 - Set is unordered\n",
    "you cannot access set member through index, as set is an unordered collection. Try to run the command below and observe the output."
   ]
  },
  {
   "cell_type": "code",
   "execution_count": 6,
   "metadata": {
    "id": "jyKkB0Q1Lw3a"
   },
   "outputs": [
    {
     "ename": "NameError",
     "evalue": "name 's' is not defined",
     "output_type": "error",
     "traceback": [
      "\u001b[1;31m---------------------------------------------------------------------------\u001b[0m",
      "\u001b[1;31mNameError\u001b[0m                                 Traceback (most recent call last)",
      "Cell \u001b[1;32mIn[6], line 1\u001b[0m\n\u001b[1;32m----> 1\u001b[0m \u001b[38;5;28mprint\u001b[39m(s[\u001b[38;5;241m0\u001b[39m])\n",
      "\u001b[1;31mNameError\u001b[0m: name 's' is not defined"
     ]
    }
   ],
   "source": [
    "print(s[0])"
   ]
  },
  {
   "cell_type": "markdown",
   "metadata": {
    "id": "9jKspz6NLw3a"
   },
   "source": [
    "### 6.3.3 -  Add/remove a new element to a set\n",
    "Use **add()** or **remove** to add/remove a new element to a set, e.g"
   ]
  },
  {
   "cell_type": "code",
   "execution_count": null,
   "metadata": {
    "id": "fbc7vbq0Lw3a"
   },
   "outputs": [],
   "source": [
    "numbers = set ([1, 2, 3, 4, 5, 6, 7])\n",
    "numbers.add(8) \t# append a new value to last\n",
    "print(numbers)\n",
    "\n",
    "s.add(0)\n",
    "s.remove(6)\n",
    "print('s=',s)"
   ]
  },
  {
   "cell_type": "markdown",
   "metadata": {
    "id": "PSdSE_B1Lw3a"
   },
   "source": [
    "### 6.3.4. - Set Manipulation\n",
    "you can check the union, intersection, difference and symmetric difference of 2 sets, etc., as follow"
   ]
  },
  {
   "cell_type": "code",
   "execution_count": 7,
   "metadata": {
    "id": "eBy52yzZc5x5",
    "outputId": "6cd94c7e-9c75-4830-bc22-92a0c335b5b4"
   },
   "outputs": [
    {
     "data": {
      "image/png": "[encoded data removed]",
      "text/plain": [
       "<IPython.core.display.Image object>"
      ]
     },
     "execution_count": 7,
     "metadata": {
      "image/png": {
       "height": 300,
       "width": 500
      }
     },
     "output_type": "execute_result"
    }
   ],
   "source": [
    "from IPython.display import Image\n",
    "Image(filename='manipulation.png', width=500, height=300)"
   ]
  },
  {
   "cell_type": "code",
   "execution_count": 8,
   "metadata": {
    "id": "7OFfi48pLw3a",
    "scrolled": true
   },
   "outputs": [
    {
     "name": "stdout",
     "output_type": "stream",
     "text": [
      "dsa | web =  {'John', 'Eric', 'Jill', 'Jake', 'Tom', 'Mac'}\n",
      "dsa | web =  {'John', 'Eric', 'Jill', 'Jake', 'Tom', 'Mac'}\n",
      "dsa & web =  {'Jake', 'Tom'}\n",
      "dsa & web =  {'Jake', 'Tom'}\n",
      "dsa & ai =  set()\n",
      "dsa & ai =  set()\n",
      "dsa - web =  {'John', 'Eric'}\n",
      "dsa - web =  {'John', 'Eric'}\n",
      "dsa ^ web =  {'Eric', 'John', 'Jill', 'Mac'}\n",
      "dsa ^ web =  {'Eric', 'John', 'Jill', 'Mac'}\n",
      "No one registered for both of DSA and AI\n"
     ]
    }
   ],
   "source": [
    "dsa = set([\"Tom\", \"Jake\", \"John\", \"Eric\",\"Tom\"])\n",
    "web = set([\"Tom\", \"Jake\", \"Jill\", \"Mac\"])\n",
    "ai = set([\"William\", \"Andy\"])\n",
    "\n",
    "#Union of two sets: Find all people have registered either dsa or web\n",
    "print('dsa | web = ', dsa.union(web))\n",
    "print('dsa | web = ', dsa | web)\n",
    "\n",
    "#Intersection of two sets: People have registered for both dsa and web\n",
    "print('dsa & web = ', dsa.intersection(web))\n",
    "print('dsa & web = ', dsa & web)\n",
    "\n",
    "#Intersection of two sets: People have registered for both dsa and ai\n",
    "print('dsa & ai = ', dsa.intersection(ai))\n",
    "print('dsa & ai = ', dsa & ai)\n",
    "\n",
    "#Difference of two sets: People have registered for dsa but not for web\n",
    "print('dsa - web = ', dsa.difference(web))\n",
    "print('dsa - web = ', dsa - web)\n",
    "\n",
    "#Symmetric Difference between two sets: People that attend only dsa or web\n",
    "print('dsa ^ web = ', dsa.symmetric_difference(web))\n",
    "print('dsa ^ web = ', dsa ^ web)   #return value\n",
    "\n",
    "#Check for disjoint or superset  #chekcing purpose = True/False\n",
    "if dsa.isdisjoint(ai):  #True\n",
    "    print(\"No one registered for both of DSA and AI\")\n",
    "if ai.issubset(dsa):\n",
    "    print(\"All AI students already registered for DSA\")\n",
    "if dsa.issuperset(ai):\n",
    "    print(\"All AI students already registered for DSA\")\n"
   ]
  },
  {
   "cell_type": "markdown",
   "metadata": {
    "id": "zJfcSPk2Lw3b"
   },
   "source": [
    "## 6.4 - Dictionary"
   ]
  },
  {
   "cell_type": "markdown",
   "metadata": {
    "id": "FYj2G09gLw3b"
   },
   "source": [
    "__1. Dictionary:__ Dictionaries are a collection of items in the form of a (key, value) pair. Each item is identified by a key. Unlike lists, dictionaries are unordered sets, which are accessed via keys but not via their position.\n",
    "\n",
    "Here's the basic syntax for creating a dictionary:<br>\n",
    "**my_dict = {key1: value1, key2: value2, key3: value3, ...}**\n",
    "\n",
    "In this syntax:<br>\n",
    "1. Curly braces {} are used to enclose the key-value pairs.<br>\n",
    "2. Each key-value pair is separated by a colon : character.<br>\n",
    "3. Each key is unique within the dictionary and must be an immutable object, such as a string or a number.<br>\n",
    "4. Values can be of any data type and can be mutable or immutable.<br>\n",
    "\n",
    "In Python, examples of immutable objects include integers, floats, strings, and tuples. On the other hand, mutable objects include lists, dictionaries, and sets themselves."
   ]
  },
  {
   "cell_type": "code",
   "execution_count": null,
   "metadata": {
    "id": "s_QxnBvDLw3b"
   },
   "outputs": [],
   "source": [
    "# First way to declare a dictionary\n",
    "student1 = {'name':['James','Bond'],'age':20,'level':'BSc', 'programme':'SF','year':2,'registration_id':'16WAD1234',\n",
    "           'tel':'0110101010'}\n",
    "\n",
    "name = student1['name']\n",
    "\n",
    "print(student1)"
   ]
  },
  {
   "cell_type": "markdown",
   "metadata": {
    "id": "yEcXFu4nLw3b"
   },
   "source": [
    "There are a few alternative ways to declare a dictionary in Python. Here are some of the options:<br>\n",
    "1. Using the dict() constructor:<br>\n",
    "    **my_dict = dict()<br>**\n",
    "    This creates an empty dictionary.<br>\n",
    "2. Using key-value pairs as arguments to the dict() constructor:<br>\n",
    "    **my_dict = dict(key1=value1, key2=value2, key3=value3)<br>**\n",
    "    This syntax allows you to directly specify the key-value pairs within the dict() constructor.<br>\n",
    "3. Using a sequence of key-value tuples:<br>\n",
    "    **my_dict = dict([(key1, value1), (key2, value2), (key3, value3)])<br>**\n",
    "    This syntax creates a dictionary from a list of tuples, where each tuple contains a key-value pair.<br>\n",
    "4. Using dictionary comprehension:<br>\n",
    "    **my_dict = {key: value for key, value in iterable}<br>**\n",
    "    This syntax allows you to create a dictionary by iterating over an iterable (such as a list or tuple) and defining key-value pairs based on the elements of the iterable.<br>"
   ]
  },
  {
   "cell_type": "code",
   "execution_count": null,
   "metadata": {
    "id": "leygx81LLw3b"
   },
   "outputs": [],
   "source": [
    "# Empty dictionary using dict()\n",
    "empty_dict = dict()\n",
    "\n",
    "# Dictionary with key-value pairs using dict()\n",
    "person_dict = dict(name=\"Alice\", age=25, city=\"New York\")\n",
    "\n",
    "# Dictionary from a sequence of key-value tuples\n",
    "fruit_dict = dict([(\"apple\", 5), (\"banana\", 3), (\"orange\", 8)])\n",
    "\n",
    "# Dictionary comprehension\n",
    "numbers_dict = {x: x**2 for x in range(1, 5)}"
   ]
  },
  {
   "cell_type": "markdown",
   "metadata": {
    "id": "MmIlgiCiLw3b"
   },
   "source": [
    "__2. Accessing an element of dictionary:__ You can use assigned keys to retrieve a value from a dictionary. With .items(), you can also create a list of binary tuples of the items in the dictionary."
   ]
  },
  {
   "cell_type": "code",
   "execution_count": null,
   "metadata": {
    "id": "lkVfRVLKLw3b"
   },
   "outputs": [],
   "source": [
    "#retrieving individual element based on a key\n",
    "print ('Name:', student1['name'])\n",
    "print ('Registration ID', student1['registration_id'])\n",
    "if student1['level'] == 'BSc':\n",
    "    print ('Programme R' + student1['programme'] + (student1['year']))"
   ]
  },
  {
   "cell_type": "markdown",
   "metadata": {
    "id": "s5j-NSISLw3f"
   },
   "source": [
    "__3. Traversing a dictionary:__ You can traverse through a dictionary by using a for loop. Remember that with .items(), you would have a list of binary tuples, hence you can unpack them into 2 elements - attribute and value"
   ]
  },
  {
   "cell_type": "code",
   "execution_count": null,
   "metadata": {
    "id": "hstXRKaxLw3f"
   },
   "outputs": [],
   "source": [
    "for key,value in student1.items():\n",
    "    print(key, \":\", value)\n",
    "\n",
    "# for attribute, value in student1.items():\n",
    "#     print (attribute, ':\\t', value)"
   ]
  },
  {
   "cell_type": "markdown",
   "metadata": {
    "id": "ihTS0S0LLw3f"
   },
   "source": [
    "Here's a summary table comparing the characteristics of lists, tuples, sets, and dictionaries in Python:"
   ]
  },
  {
   "cell_type": "code",
   "execution_count": null,
   "metadata": {
    "id": "0CTBnUgYLw3f",
    "outputId": "8be8144a-1d9a-431e-eaa0-89881b080312"
   },
   "outputs": [],
   "source": [
    "from IPython.display import Image\n",
    "Image(filename='summry.png', width=500, height=300)\n",
    "\n",
    "#or use markdown ![summry.png](attachment:summry.png)"
   ]
  },
  {
   "cell_type": "markdown",
   "metadata": {
    "id": "tdfbTYO-Lw3f"
   },
   "source": [
    "**Mutable:** Indicates whether the elements or the structure of the collection can be modified after creation.<br>\n",
    "**Ordered:** Specifies if the elements in the collection have a defined order.<br>\n",
    "**Allows Duplicates:** Indicates whether the collection allows duplicate elements.<br>\n",
    "**Key-Value Pairs:** Specifies whether the collection stores elements as key-value pairs.<br>"
   ]
  },
  {
   "cell_type": "markdown",
   "metadata": {},
   "source": [
    "# Exercise"
   ]
  },
  {
   "cell_type": "code",
   "execution_count": 12,
   "metadata": {},
   "outputs": [
    {
     "name": "stdout",
     "output_type": "stream",
     "text": [
      "10\n",
      "9\n",
      "8\n",
      "7\n",
      "6\n",
      "5\n",
      "4\n",
      "3\n",
      "2\n",
      "1\n"
     ]
    }
   ],
   "source": [
    "#Write a Python script that utilizes a for loop to prompt the user for 10 values and appends each value into a list.\n",
    "myList = []\n",
    "for i in range(10):\n",
    "    number = int(input('Insert your number'))\n",
    "    myList.append(number)\n",
    "\n",
    "for i in myList:\n",
    "    print(i)"
   ]
  },
  {
   "cell_type": "code",
   "execution_count": 13,
   "metadata": {},
   "outputs": [
    {
     "name": "stdout",
     "output_type": "stream",
     "text": [
      "1\n",
      "2\n",
      "3\n",
      "4\n",
      "5\n",
      "8\n",
      "9\n",
      "10\n"
     ]
    }
   ],
   "source": [
    "# Remove the value index 5 and 6\n",
    "myList = []\n",
    "for i in range(10):\n",
    "    number = int(input('Insert your number'))\n",
    "    myList.append(number)\n",
    "\n",
    "del myList[5:7]\n",
    "\n",
    "for i in myList:\n",
    "    print(i)"
   ]
  },
  {
   "cell_type": "code",
   "execution_count": 2,
   "metadata": {},
   "outputs": [
    {
     "name": "stdout",
     "output_type": "stream",
     "text": [
      "600\n",
      "20\n",
      "600\n",
      "20\n",
      "600\n",
      "20\n",
      "600\n",
      "40\n",
      "700\n",
      "20\n"
     ]
    }
   ],
   "source": [
    "# Transform the value in the list above by multiplying the value more than 50 by 10, else multyplying the value by 2\n",
    "myList = []\n",
    "for i in range(10):\n",
    "    number = int(input('Insert your number'))\n",
    "    # Apply conditional multiplication\n",
    "    if(number > 50):\n",
    "        number = number * 10\n",
    "    else:\n",
    "        number = number * 2\n",
    "    myList.append(number)\n",
    "\n",
    "for i in myList:\n",
    "    print(i)\n"
   ]
  },
  {
   "cell_type": "code",
   "execution_count": 4,
   "metadata": {},
   "outputs": [
    {
     "name": "stdout",
     "output_type": "stream",
     "text": [
      "600\n",
      "20\n",
      "600\n",
      "20\n",
      "600\n",
      "40\n",
      "600\n",
      "20\n",
      "700\n",
      "40\n"
     ]
    }
   ],
   "source": [
    "# Modifying the code above using in-line if statement \n",
    "myList = []\n",
    "for i in range(10):\n",
    "    number = int(input('Insert your number'))\n",
    "    # Apply conditional multiplication\n",
    "    number = number * 10 if number > 50 else number * 2\n",
    "    myList.append(number)\n",
    "\n",
    "for i in myList:\n",
    "    print(i)"
   ]
  },
  {
   "cell_type": "markdown",
   "metadata": {},
   "source": [
    "## Try Exercise (Practical 1 Getting Started with Python (Part 1 and Part 2))"
   ]
  },
  {
   "cell_type": "code",
   "execution_count": null,
   "metadata": {},
   "outputs": [],
   "source": [
    "#Question 1\n",
    "import math\n",
    "\n",
    "print(\"Calculate your cylinder!\")\n",
    "r = int(input(\"Insert your radius (r): \"))\n",
    "h = int(*input(\"Insert your height (h): \"))\n",
    "print(\"The volume of your cylinder is:\", math.pi * (r**2) * h)"
   ]
  },
  {
   "cell_type": "code",
   "execution_count": null,
   "metadata": {},
   "outputs": [
    {
     "name": "stdout",
     "output_type": "stream",
     "text": [
      "Start Time: 1739701173.702307 seconds\n",
      "End Time: 1739701174.702307 seconds\n",
      "Duration: 1.000000 seconds\n",
      "\n",
      "\n",
      "(320, 365)\n",
      "(355, 232)\n",
      "The speed is 137.0 ms\n"
     ]
    }
   ],
   "source": [
    "#Question 2\n",
    "import time\n",
    "import random\n",
    "import math\n",
    "screenResolutionWidth = 1280\n",
    "screenResolutionHeight = 800\n",
    "def calculateTime():\n",
    "    start = time.time()\n",
    "    time.sleep(1)\n",
    "    end = start + 1\n",
    "    duration = end - start\n",
    "\n",
    "    # Print results\n",
    "    print(f\"Start Time: {start:.6f} seconds\")\n",
    "    print(f\"End Time: {end:.6f} seconds\")\n",
    "    print(f\"Duration: {duration:.6f} seconds\")  # Output should be close to 1 second\n",
    "    return duration\n",
    "\n",
    "def randomPointer(duration):\n",
    "    first = (random.randint(0,screenResolutionWidth), random.randint(0,screenResolutionHeight))\n",
    "    second = (random.randint(0,screenResolutionWidth), random.randint(0,screenResolutionHeight))\n",
    "\n",
    "    print('\\n')\n",
    "    print(first)\n",
    "    print(second)\n",
    "    print('The speed is', calculateMouseSpeed(first,second,duration),'ms')\n",
    "\n",
    "def calculateMouseSpeed(first, second, duration):\n",
    "    x1 = first[0]\n",
    "    x2 = second[0]\n",
    "    y1 = first[1]\n",
    "    y2 = second[1]\n",
    "    distance = math.sqrt(((x2 - x1)**2) + ((y2 - y1)**2))\n",
    "\n",
    "    return distance // duration\n",
    "\n",
    "duration = calculateTime()\n",
    "randomPointer(duration)\n",
    "\n"
   ]
  },
  {
   "cell_type": "code",
   "execution_count": 23,
   "metadata": {},
   "outputs": [
    {
     "name": "stdout",
     "output_type": "stream",
     "text": [
      "\n",
      "\n",
      "Start Time: 1739703075.284763 seconds\n",
      "End Time: 1739703076.284763 seconds\n",
      "Duration: 1.000000 seconds\n",
      "(1104, 228)\n",
      "\n",
      "\n",
      "Start Time: 1739703076.285239 seconds\n",
      "End Time: 1739703077.285239 seconds\n",
      "Duration: 1.000000 seconds\n",
      "(570, 616)\n",
      "\n",
      "\n",
      "Start Time: 1739703077.285580 seconds\n",
      "End Time: 1739703078.285580 seconds\n",
      "Duration: 1.000000 seconds\n",
      "(401, 741)\n",
      "\n",
      "\n",
      "Start Time: 1739703078.285722 seconds\n",
      "End Time: 1739703079.285722 seconds\n",
      "Duration: 1.000000 seconds\n",
      "(226, 148)\n",
      "\n",
      "\n",
      "Start Time: 1739703079.286118 seconds\n",
      "End Time: 1739703080.286118 seconds\n",
      "Duration: 1.000000 seconds\n",
      "(691, 19)\n",
      "\n",
      "\n",
      "Start Time: 1739703080.286510 seconds\n",
      "End Time: 1739703081.286510 seconds\n",
      "Duration: 1.000000 seconds\n",
      "(891, 351)\n",
      "\n",
      "\n",
      "Start Time: 1739703081.287014 seconds\n",
      "End Time: 1739703082.287014 seconds\n",
      "Duration: 1.000000 seconds\n",
      "(109, 169)\n",
      "\n",
      "\n",
      "Start Time: 1739703082.287336 seconds\n",
      "End Time: 1739703083.287336 seconds\n",
      "Duration: 1.000000 seconds\n",
      "(585, 220)\n",
      "\n",
      "\n",
      "Start Time: 1739703083.287462 seconds\n",
      "End Time: 1739703084.287462 seconds\n",
      "Duration: 1.000000 seconds\n",
      "(5, 688)\n",
      "\n",
      "\n",
      "Start Time: 1739703084.287994 seconds\n",
      "End Time: 1739703085.287994 seconds\n",
      "Duration: 1.000000 seconds\n",
      "(946, 706)\n",
      "\n",
      "\n",
      "Average Speed = 532.6776814607022\n"
     ]
    }
   ],
   "source": [
    "#Question 3\n",
    "import time\n",
    "import random\n",
    "import math\n",
    "screenResolutionWidth = 1280\n",
    "screenResolutionHeight = 800\n",
    "coordinatesList = []\n",
    "totalTime = 0\n",
    "\n",
    "def calculateTime():\n",
    "    start = time.time()\n",
    "    time.sleep(1)\n",
    "    end = start + 1\n",
    "    duration = end - start\n",
    "\n",
    "    # Print results\n",
    "    print('\\n')\n",
    "    print(f\"Start Time: {start:.6f} seconds\")\n",
    "    print(f\"End Time: {end:.6f} seconds\")\n",
    "    print(f\"Duration: {duration:.6f} seconds\")  # Output should be close to 1 second\n",
    "    return duration\n",
    "\n",
    "def randomPointer():\n",
    "    randomMousePointer = (random.randint(0,screenResolutionWidth), random.randint(0,screenResolutionHeight))\n",
    "    \n",
    "\n",
    "    \n",
    "    print(randomMousePointer)\n",
    "    coordinatesList.append(randomMousePointer)\n",
    "\n",
    "def calculateMouseSpeed(coordinateList, duration):\n",
    "    totalDistance = 0\n",
    "    for i in range(len(coordinateList) - 1):\n",
    "        if(i < len(coordinateList)):\n",
    "            x1 = coordinateList[i][0]\n",
    "            x2 = coordinateList[i + 1][0]\n",
    "            y1 = coordinateList[i][1]\n",
    "            y2 = coordinateList[i + 1][1]\n",
    "            distance = math.sqrt(((x2 - x1)**2) + ((y2 - y1)**2))\n",
    "            totalDistance = totalDistance + distance\n",
    "    return totalDistance / duration if duration > 0 else 0  # ✅ Avoids division by zero.\n",
    "\n",
    "for i in range(10):\n",
    "    duration = calculateTime()\n",
    "    randomPointer()\n",
    "    totalTime = totalTime + duration\n",
    "print('\\n')\n",
    "print('Average Speed =', calculateMouseSpeed(coordinatesList, totalTime))\n",
    "# print(coordinatesList)"
   ]
  },
  {
   "cell_type": "code",
   "execution_count": null,
   "metadata": {},
   "outputs": [
    {
     "name": "stdout",
     "output_type": "stream",
     "text": [
      "['blue', 'cyan', 'orange', 'red']\n",
      "['blue', 'cyan', 'red', 'orange']\n",
      "Black\n",
      "Black\n",
      "White\n",
      "White\n",
      "2\n",
      "['blue', 'white', 'cyan', 'orange']\n",
      "Black\n",
      "\n",
      "White\n",
      "White\n",
      "1\n",
      "['blue', 'cyan', 'orange', 'red']\n",
      "Black\n",
      "Black\n",
      "Black\n",
      "Black\n",
      "4\n",
      "Congratulation! Total Attempts: 3\n"
     ]
    }
   ],
   "source": [
    "#Question 4\n",
    "import random\n",
    "\n",
    "codes = {'green', 'cyan', 'red', 'purple', 'blue', 'orange'}\n",
    "gameOver = 1\n",
    "def mastermind():\n",
    "    answer = []\n",
    "    attempt = 0\n",
    "    correct = 0\n",
    "    for j in range(4):\n",
    "        code = random.choice(list(codes))\n",
    "        answer.append(code)\n",
    "    answer.sort()\n",
    "    print(answer)\n",
    "    while attempt < 10 and correct != 4:\n",
    "        guess = []\n",
    "        correct = 0\n",
    "        for z in range(len(answer)):\n",
    "            colorGuess = input(f'Color Number {z+1}')\n",
    "            guess.append(colorGuess.lower().strip())\n",
    "        print(guess)\n",
    "        for i in range(len(guess)):\n",
    "            if(guess[i] == answer[i]):\n",
    "                print('Black')\n",
    "                correct += 1\n",
    "            else:\n",
    "                haveWhite = False\n",
    "                for x in range(len(guess)):\n",
    "                    if(guess[i] == answer[x]):\n",
    "                        print('White')\n",
    "                        haveWhite = True\n",
    "                        break\n",
    "                if(haveWhite == False):\n",
    "                    print('')\n",
    "        attempt += 1\n",
    "        print(correct)\n",
    "    \n",
    "    if(correct == 4):\n",
    "        print(f'Congratulation! Total Attempts: {attempt}')\n",
    "    else:\n",
    "        print('You lose')\n",
    "    gameOver = int(input('Do you wish to play again? Enter any key to continue or enter 0 to exit'))\n",
    "    return gameOver\n",
    "while gameOver != 0:\n",
    "    gameOver = mastermind()"
   ]
  },
  {
   "cell_type": "markdown",
   "metadata": {},
   "source": [
    "# Great Job!"
   ]
  }
 ],
 "metadata": {
  "colab": {
   "provenance": []
  },
  "kernelspec": {
   "display_name": "base",
   "language": "python",
   "name": "python3"
  },
  "language_info": {
   "codemirror_mode": {
    "name": "ipython",
    "version": 3
   },
   "file_extension": ".py",
   "mimetype": "text/x-python",
   "name": "python",
   "nbconvert_exporter": "python",
   "pygments_lexer": "ipython3",
   "version": "3.12.7"
  }
 },
 "nbformat": 4,
 "nbformat_minor": 4
}
