{
 "cells": [
  {
   "cell_type": "markdown",
   "metadata": {},
   "source": [
    "Basic and easy to remember one i wont wrote it down la"
   ]
  },
  {
   "cell_type": "markdown",
   "metadata": {},
   "source": [
    "Random library has few different kind of function\n",
    "\n",
    "1. random()\n",
    "2. uniform(floatStart, floatEndButLesserThan)\n",
    "3. randint(integerStart, integerEndIncluded)\n",
    "4. randrange(integerStart, integerEndButLesserThan, divisibleByThisInteger)\n",
    "5. choice(justRandomStuffToBeChosen)\n",
    "6. choice([justRandomStuffInAListToBeChosen])\n",
    "7. sample([justRandomStuffInAListToBeChosen], numberOfElements)\n",
    "8. shuffle(listOfItemsThatWillBeReshuffle)"
   ]
  },
  {
   "cell_type": "code",
   "execution_count": null,
   "metadata": {},
   "outputs": [],
   "source": [
    "#Input notes\n",
    "\n",
    "something = int(input(\"Just key in something man:\"))\n",
    "#int() to convert the input to integer"
   ]
  },
  {
   "cell_type": "code",
   "execution_count": null,
   "metadata": {},
   "outputs": [],
   "source": [
    "#For Loop Notes\n",
    "\n",
    "for i in range(10):\n",
    "    print(\"HEHE\", i)\n",
    "#Loop for 10 times\n",
    "\n",
    "for i in range(-5,5):\n",
    "    print(\"HOHO\", i)\n",
    "#Loop with number starting for first parameter to the number before the second parameter\n",
    "\n",
    "for i in range(10, 20, 2):\n",
    "    print(\"HAHA\", i)\n",
    "#Loop with number starting for first parameter to the number before the second parameter \n",
    "#and the numbers must be divisible by the third parameter\n",
    "\n",
    "num = [2,4,6,8]\n",
    "for i in range(len(num)):\n",
    "    print(\"My Number:\", num[i])\n",
    "#Loop the item in the list\n",
    "\n",
    "for numbers in [1,2,6,7,8,9,4]:\n",
    "    print(numbers)\n",
    "\n",
    "#Loop the item in the list, example 2"
   ]
  },
  {
   "cell_type": "markdown",
   "metadata": {},
   "source": [
    "List\n",
    "\n",
    "list = []\n",
    "\n",
    "Functions\n",
    "1. append(x)\n",
    "2. insert(index, x)\n",
    "3. remove(exactValueNotIndex)\n",
    "4. del numbers[index]\n",
    "5. pop(index)\n",
    "6. sorted([list])\n",
    "\n",
    "==========================================================================================\n",
    "\n",
    "Tuple\n",
    "\n",
    "tuple = ()\n",
    "\n",
    "Notes:\n",
    "VALUES IN TUPLE CANNOT BE CHANGED ONCE ASSIGNED\n",
    "\n",
    "Unpacking tuple\n",
    "\n",
    "tuple = (1,2)\n",
    "\n",
    "OPTION 1\n",
    "a = tuple[0]\n",
    "b = tuple[1]\n",
    "\n",
    "or\n",
    "\n",
    "OPTION 2\n",
    "x,y = tuple\n",
    "\n",
    "==========================================================================================\n",
    "\n",
    "Set\n",
    "\n",
    "set = {}\n",
    "\n",
    "Functions\n",
    "1. add\n",
    "2. remove\n",
    "\n",
    "Notes:\n",
    "Creating Set\n",
    "\n",
    "OPTION 1\n",
    "set = {}\n",
    "\n",
    "or\n",
    "\n",
    "OPTION 2\n",
    "\n",
    "set = set(WHATEVER INSIDE SINCE IT WILL BE CONVERTED TO SET ANYWAYS)"
   ]
  },
  {
   "cell_type": "markdown",
   "metadata": {},
   "source": [
    "Set Manipulation (A little long so i rather separate it)"
   ]
  },
  {
   "cell_type": "code",
   "execution_count": 7,
   "metadata": {},
   "outputs": [
    {
     "data": {
      "image/png": "[encoded data removed]",
      "text/plain": [
       "<IPython.core.display.Image object>"
      ]
     },
     "execution_count": 7,
     "metadata": {
      "image/png": {
       "height": 300,
       "width": 500
      }
     },
     "output_type": "execute_result"
    }
   ],
   "source": [
    "from IPython.display import Image\n",
    "Image(filename='manipulation.png', width=500, height=300)"
   ]
  },
  {
   "cell_type": "code",
   "execution_count": null,
   "metadata": {},
   "outputs": [],
   "source": [
    "#TENGOK EXAMPLE ABOVE AH\n",
    "dsa = set([\"Tom\", \"Jake\", \"John\", \"Eric\",\"Tom\"])\n",
    "web = set([\"Tom\", \"Jake\", \"Jill\", \"Mac\"])\n",
    "ai = set([\"William\", \"Andy\"])\n",
    "#THIS WILL BE THE SETS ACCORDING TO THE IMAGE\n",
    "\n",
    "#UNION\n",
    "#Use set.union(theOtherSet) or '|'\n",
    "\n",
    "print('Union of dsa and web:', dsa.union(web))\n",
    "\n",
    "#INTERSECTION\n",
    "#Use set.interaction(theOtherSet) or '&'\n",
    "\n",
    "print('Intersection of dsa and web:', dsa.intersection(web))\n",
    "\n",
    "#DIFFERENCE\n",
    "#Use set.difference(setThatIsNotWithinTheOtherSet) or '-'\n",
    "\n",
    "print(\"Difference of dsa and web\", dsa.intersection(web))\n",
    "\n",
    "#SYMMETRIC DIFFERENCE\n",
    "#Use set.difference(theOtherSet) or '^'\n",
    "#This is to set the element is only in either one of the sets\n",
    "\n",
    "print('Symmetric Difference between dsa and web', dsa.symmetric_difference(web))"
   ]
  },
  {
   "cell_type": "code",
   "execution_count": null,
   "metadata": {},
   "outputs": [],
   "source": [
    "#More sets function (Notes looks mafan so i sendiri give example)\n",
    "\n",
    "#isdisjoint - Checks if two sets do not have the same elements\n",
    "set1 = {1, 2, 3}\n",
    "set2 = {4, 5, 6}\n",
    "set3 = {3, 4, 5}\n",
    "\n",
    "print(set1.isdisjoint(set2))  # ✅ True (No common elements)\n",
    "print(set1.isdisjoint(set3))  # ❌ False (They share '3')\n",
    "\n",
    "#issubset - Check if all elements of setA exists in setB\n",
    "\n",
    "set1 = {1, 2, 3}\n",
    "set2 = {1, 2, 3, 4, 5}\n",
    "set3 = {1, 2, 4}\n",
    "\n",
    "print(set1.issubset(set2))  # ✅ True (All elements of set1 exist in set2)\n",
    "print(set3.issubset(set2))  # ✅ True (All elements of set3 exist in set2)\n",
    "print(set2.issubset(set1))  # ❌ False (set2 has extra elements)\n",
    "\n",
    "#issuperset - Check if all elements in setB existed in setA (Terbalik with issubset)\n",
    "\n",
    "set1 = {1, 2, 3, 4, 5}\n",
    "set2 = {1, 2, 3}\n",
    "set3 = {1, 2, 6}\n",
    "\n",
    "print(set1.issuperset(set2))  # ✅ True (set1 contains all elements of set2)\n",
    "print(set1.issuperset(set3))  # ❌ False (set1 does not contain '6')\n",
    "print(set2.issuperset(set1))  # ❌ False (set2 is smaller than set1)\n"
   ]
  },
  {
   "cell_type": "code",
   "execution_count": null,
   "metadata": {},
   "outputs": [
    {
     "name": "stdout",
     "output_type": "stream",
     "text": [
      "{'name': ['James', 'Bond'], 'age': 20, 'level': 'BSc', 'programme': 'SF', 'year': 2, 'registration_id': '16WAD1234', 'tel': '0110101010'}\n",
      "20\n",
      "James Bond \n",
      "name : ['James', 'Bond']\n",
      "age : 20\n",
      "level : BSc\n",
      "programme : SF\n",
      "year : 2\n",
      "registration_id : 16WAD1234\n",
      "tel : 0110101010\n"
     ]
    }
   ],
   "source": [
    "# In the practical there is other way but i don't think it's a good idea, \n",
    "# so just stick with this\n",
    "# Dictionary storing student details\n",
    "# name = {key,value}\n",
    "student1 = {\n",
    "    'name': ['James', 'Bond'],\n",
    "    'age': 20,\n",
    "    'level': 'BSc',\n",
    "    'programme': 'SF',\n",
    "    'year': 2,\n",
    "    'registration_id': '16WAD1234',\n",
    "    'tel': '0110101010'\n",
    "}\n",
    "\n",
    "\n",
    "\n",
    "# Printing the whole dictionary\n",
    "print(student1)\n",
    "# Access to one of the key\n",
    "print(student1['age'])\n",
    "# Access to one of the key that consist list\n",
    "name = student1['name']\n",
    "nameInString = ''\n",
    "for i in name:\n",
    "    nameInString += i + ' '\n",
    "    # No need mention the list because the index ald refer to the value within the list\n",
    "    # Only application if you directly loop the list\n",
    "\n",
    "print(nameInString)\n",
    "\n",
    "#Printing the whole list with key and values\n",
    "for key, value in student1.items():\n",
    "    print(key,\":\", value)"
   ]
  }
 ],
 "metadata": {
  "kernelspec": {
   "display_name": "base",
   "language": "python",
   "name": "python3"
  },
  "language_info": {
   "codemirror_mode": {
    "name": "ipython",
    "version": 3
   },
   "file_extension": ".py",
   "mimetype": "text/x-python",
   "name": "python",
   "nbconvert_exporter": "python",
   "pygments_lexer": "ipython3",
   "version": "3.12.7"
  }
 },
 "nbformat": 4,
 "nbformat_minor": 2
}
