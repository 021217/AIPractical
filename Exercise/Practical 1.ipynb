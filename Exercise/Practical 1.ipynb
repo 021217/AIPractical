{
 "cells": [
  {
   "cell_type": "markdown",
   "metadata": {},
   "source": [
    "1. Define a function named volume that receives two user inputs: r (radius) and h (height) of a \n",
    "cylinder. The area function calculates and display the volume V of a cylinder, given that  \n",
    "V = pi * r^2 * h"
   ]
  },
  {
   "cell_type": "code",
   "execution_count": 2,
   "metadata": {},
   "outputs": [
    {
     "name": "stdout",
     "output_type": "stream",
     "text": [
      "Calculate your cylinder!\n",
      "The volume of your cylinder is: 785.3981633974483\n"
     ]
    }
   ],
   "source": [
    "import math\n",
    "\n",
    "print(\"Calculate your cylinder!\")\n",
    "r = int(input(\"Insert your radius (r): \"))\n",
    "h = int(*input(\"Insert your height (h): \"))\n",
    "print(\"The volume of your cylinder is:\", math.pi * (r**2) * h)"
   ]
  },
  {
   "cell_type": "markdown",
   "metadata": {},
   "source": []
  }
 ],
 "metadata": {
  "kernelspec": {
   "display_name": "base",
   "language": "python",
   "name": "python3"
  },
  "language_info": {
   "codemirror_mode": {
    "name": "ipython",
    "version": 3
   },
   "file_extension": ".py",
   "mimetype": "text/x-python",
   "name": "python",
   "nbconvert_exporter": "python",
   "pygments_lexer": "ipython3",
   "version": "3.12.7"
  }
 },
 "nbformat": 4,
 "nbformat_minor": 2
}
